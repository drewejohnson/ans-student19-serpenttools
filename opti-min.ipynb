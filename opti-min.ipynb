{
 "cells": [
  {
   "cell_type": "code",
   "execution_count": 1,
   "metadata": {},
   "outputs": [],
   "source": [
    "import numpy as np\n",
    "from scipy.optimize import minimize\n",
    "from matplotlib import pyplot\n",
    "from runner import Runner"
   ]
  },
  {
   "cell_type": "code",
   "execution_count": 2,
   "metadata": {},
   "outputs": [],
   "source": [
    "serp = Runner('template', './sss2')"
   ]
  },
  {
   "cell_type": "code",
   "execution_count": 3,
   "metadata": {},
   "outputs": [
    {
     "name": "stdout",
     "output_type": "stream",
     "text": [
      "Running with fuel radius: 0.39000, clad radius: 0.45000, pitch: 0.63000\n"
     ]
    },
    {
     "data": {
      "text/plain": [
       "array([1.3625 , 0.00142])"
      ]
     },
     "execution_count": 3,
     "metadata": {},
     "output_type": "execute_result"
    }
   ],
   "source": [
    "serp.run(0.39)"
   ]
  },
  {
   "cell_type": "code",
   "execution_count": 4,
   "metadata": {},
   "outputs": [],
   "source": [
    "fuel = np.linspace(0.1, 0.5, 10)"
   ]
  },
  {
   "cell_type": "code",
   "execution_count": 5,
   "metadata": {},
   "outputs": [],
   "source": [
    "k, u = [], []"
   ]
  },
  {
   "cell_type": "code",
   "execution_count": 6,
   "metadata": {},
   "outputs": [
    {
     "name": "stdout",
     "output_type": "stream",
     "text": [
      "Running with fuel radius: 0.10000, clad radius: 0.16000, pitch: 0.63000\n",
      "Running with fuel radius: 0.14444, clad radius: 0.20444, pitch: 0.63000\n",
      "Running with fuel radius: 0.18889, clad radius: 0.24889, pitch: 0.63000\n",
      "Running with fuel radius: 0.23333, clad radius: 0.29333, pitch: 0.63000\n",
      "Running with fuel radius: 0.27778, clad radius: 0.33778, pitch: 0.63000\n",
      "Running with fuel radius: 0.32222, clad radius: 0.38222, pitch: 0.63000\n",
      "Running with fuel radius: 0.36667, clad radius: 0.42667, pitch: 0.63000\n",
      "Running with fuel radius: 0.41111, clad radius: 0.47111, pitch: 0.63000\n",
      "Running with fuel radius: 0.45556, clad radius: 0.51556, pitch: 0.63000\n",
      "Running with fuel radius: 0.50000, clad radius: 0.56000, pitch: 0.63000\n"
     ]
    }
   ],
   "source": [
    "for f in fuel:\n",
    "    res = serp.run(f)\n",
    "    k.append(res[0])\n",
    "    u.append(res[1])"
   ]
  },
  {
   "cell_type": "code",
   "execution_count": 9,
   "metadata": {
    "scrolled": true
   },
   "outputs": [
    {
     "data": {
      "text/plain": [
       "[<matplotlib.lines.Line2D at 0x7f40fd10ae80>]"
      ]
     },
     "execution_count": 9,
     "metadata": {},
     "output_type": "execute_result"
    },
    {
     "data": {
      "image/png": "[encoded data removed]",
      "text/plain": [
       "<Figure size 432x288 with 1 Axes>"
      ]
     },
     "metadata": {
      "needs_background": "light"
     },
     "output_type": "display_data"
    }
   ],
   "source": [
    "pyplot.plot(fuel, k, 'o-')"
   ]
  },
  {
   "cell_type": "code",
   "execution_count": 10,
   "metadata": {},
   "outputs": [],
   "source": [
    "def minKeffFunc(x, *args):\n",
    "    runner = args[0]\n",
    "    keff, unc = runner.run(x[0])\n",
    "    print(x[0], keff)\n",
    "    return -keff"
   ]
  },
  {
   "cell_type": "code",
   "execution_count": 12,
   "metadata": {},
   "outputs": [],
   "source": [
    "serp._verbose = False"
   ]
  },
  {
   "cell_type": "code",
   "execution_count": 13,
   "metadata": {},
   "outputs": [
    {
     "name": "stdout",
     "output_type": "stream",
     "text": [
      "0.2 1.23271\n",
      "0.2 1.23039\n",
      "0.20000001 1.23374\n",
      "0.2000000085681677 1.23132\n",
      "0.2000000085681677 1.23439\n",
      "0.20000001856816768 1.23046\n",
      "0.20000000394276946 1.23188\n",
      "0.20000000394276946 1.23367\n",
      "0.20000001394276945 1.2315\n",
      "0.20000000197138473 1.23164\n",
      "0.20000000197138473 1.23239\n",
      "0.20000001197138473 1.23447\n",
      "0.20000000098569237 1.23281\n",
      "0.20000000098569237 1.23265\n",
      "0.20000001098569237 1.23345\n",
      "0.20000000098569237 1.23439\n",
      "0.20000000098569237 1.23319\n",
      "0.20000001098569237 1.23123\n"
     ]
    },
    {
     "data": {
      "text/plain": [
       "     fun: -1.23439\n",
       "     jac: array([196000.])\n",
       " message: 'Converged (|x_n-x_(n-1)| ~= 0)'\n",
       "    nfev: 5\n",
       "     nit: 1\n",
       "  status: 2\n",
       " success: True\n",
       "       x: array([0.2])"
      ]
     },
     "execution_count": 13,
     "metadata": {},
     "output_type": "execute_result"
    }
   ],
   "source": [
    "minimize(minKeffFunc, (0.20, ), args=(serp, ),\n",
    "         method='TNC', bounds=((0.1, 0.55,), ))"
   ]
  },
  {
   "cell_type": "code",
   "execution_count": null,
   "metadata": {},
   "outputs": [],
   "source": []
  }
 ],
 "metadata": {
  "kernelspec": {
   "display_name": "Python 3",
   "language": "python",
   "name": "python3"
  },
  "language_info": {
   "codemirror_mode": {
    "name": "ipython",
    "version": 3
   },
   "file_extension": ".py",
   "mimetype": "text/x-python",
   "name": "python",
   "nbconvert_exporter": "python",
   "pygments_lexer": "ipython3",
   "version": "3.7.2"
  }
 },
 "nbformat": 4,
 "nbformat_minor": 2
}
